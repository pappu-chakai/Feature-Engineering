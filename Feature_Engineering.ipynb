{
  "nbformat": 4,
  "nbformat_minor": 0,
  "metadata": {
    "colab": {
      "provenance": []
    },
    "kernelspec": {
      "name": "python3",
      "display_name": "Python 3"
    },
    "language_info": {
      "name": "python"
    }
  },
  "cells": [
    {
      "cell_type": "markdown",
      "source": [
        "Q1.What is a parameter?\n",
        "\n",
        "ANS:- A parameter is a special kind of variable that is used in a\n",
        "      function definition.It is a placeholder that represents a value that will be passed to the function when it is called.In other words, parameters are the input to the functions."
      ],
      "metadata": {
        "id": "k55V5ZSeDPFE"
      }
    },
    {
      "cell_type": "markdown",
      "source": [
        "Q2.What is correlation?\n",
        "\n",
        "ANS:- A parameter is a special kind of variable that is used in a\n",
        "      function definition.It is a placeholder that represents a value that will be passed to the function when it is called.In other words, parameters are the input to the functions."
      ],
      "metadata": {
        "id": "LZ9BbqP-DrCa"
      }
    },
    {
      "cell_type": "markdown",
      "source": [
        "Q3.What does negative correlation mean?\n",
        "\n",
        "ANS:-Negative correlation means that two variables have an inverse\n",
        "     relationship. When one variable increases, the other variable decreases, and vice versa. For example, there might be a negative correlation between the number of hours spent studying and the number of mistakes made on a test. If you study more, you might  make fewer mistakes, and if you study less, you might make more mistakes."
      ],
      "metadata": {
        "id": "NH2-gIqzDOit"
      }
    },
    {
      "cell_type": "markdown",
      "source": [
        "Q4.Define Machine Learning. What are the main components in Machine Learning?\n",
        "\n",
        "ANS:-Machine learning is a branch of artificial intelligence (AI) and\n",
        "     computer science which focuses on the use of data and algorithms to imitate the way that humans learn, gradually improving its accuracy.\n",
        "\n",
        "     Main components of Machine Learning:\n",
        "     1.Data:This is the fuel for machine learning algorithms. The     quality and quantity of data significantly impact the performance of a model. Data can be structured (e.g., tables in a database) or unstructured (e.g., text, images, audio).\n",
        "\n",
        "     2.Model: A model is a mathematical representation that learns\n",
        "              patterns and relationships from the data. It can be a simple linear regression model or a complex deep learning neural network.\n",
        "\n",
        "     3.Algorithm:The algorithm is a set of instructions that guides the\n",
        "                 learning process. It determines how the model will be trained, how data will be processed, and how predictions will be made. Popular algorithms include linear regression, decision trees, support vector machines, and neural networks.\n",
        "\n",
        "     4.Features:Features are individual measurable properties or\n",
        "                characteristics of the data used to train a model. They can be numerical, categorical, or even derived from the original data.\n",
        "\n",
        "     5.Training: Training is the process of feeding data to the model\n",
        "                 and allowing it to learn from the data. The model adjusts its parameters to minimize errors in predicting the target variable.\n",
        "\n",
        "     6.Evaluation: After training, the model is evaluated on unseen\n",
        "                   data to measure its performance. This helps determine how well the model generalizes to new, previously unseen data.\n",
        "\n",
        "     7.Prediction:Once the model is trained and evaluated, it can be\n",
        "                  used to make predictions on new data.  "
      ],
      "metadata": {
        "id": "392JEGfKEbLI"
      }
    },
    {
      "cell_type": "markdown",
      "source": [
        "Q5.How does loss value help in determining whether the model is good or not?\n",
        "\n",
        "ANS:- In machine learning, the loss value (also known as the cost\n",
        "      function or error function) quantifies how well your model is performing during the training process. A lower loss value generally indicates a better model.\n",
        "\n",
        "       Here's how it works:\n",
        "      1. Model Predictions: During training, your model makes                 predictions based on the input data.\n",
        "\n",
        "      2. Comparing Predictions to Actual Values: These predictions are\n",
        "                                                 then compared to the actual values (ground truth) for the target variable.\n",
        "      3. Calculating the Loss: The loss function measures the\n",
        "                               difference between the predicted values  and the actual values.\n",
        "\n",
        "      4. Optimization: The goal of training is to minimize this loss\n",
        "                       value. The model's parameters (weights and biases) are adjusted during training to reduce the loss, thereby improving its ability to make accurate predictions."
      ],
      "metadata": {
        "id": "ubDx_6mLECkf"
      }
    },
    {
      "cell_type": "markdown",
      "source": [
        "Q6.What are continuous and categorical variables?\n",
        "\n",
        "ANS:- Continuous variables are variables that can take on any value\n",
        "      within a given range. They are typically measured on a scale that is continuous and can be subdivided into smaller and smaller units. Examples of  continuous variables include height, weight, temperature, and time.\n",
        "\n",
        "\n",
        "     Categorical variables are variables that can only take on a limited number of values. These values are typically distinct categories or groups. Examples of categorical variables include gender, race, eye color, and marital status.\n"
      ],
      "metadata": {
        "id": "N_GAKTflGRO-"
      }
    },
    {
      "cell_type": "markdown",
      "source": [
        "Q7.How do we handle categorical variables in Machine Learning? What are the common techniques?\n",
        "\n",
        "ANS:-Categorical variables are variables that represent categories or\n",
        "     groups, rather than numerical values. In machine learning, we need to convert these variables into a format that algorithms can understand and use effectively.\n",
        "\n",
        "     1. One-Hot Encoding:\n",
        "        - Create a new binary (0 or 1) feature for each unique category in the original variable.\n",
        "        - For each data point, the corresponding feature for its\n",
        "          category is set to 1, and all others are set to 0.\n",
        "        - Example: If a variable \"Color\" has categories \"Red,\" \"Blue,\"\n",
        "           and \"Green,\" one-hot encoding would create three new features:\"Color_Red,\" \"Color_Blue,\" and \"Color_Green.\"\n",
        "        - Suitable for variables with a relatively small number of\n",
        "          categories.\n",
        "\n",
        "    2. Label Encoding: Assign a unique integer to each category.\n",
        "       - Example: If a variable \"Size\" has categories \"Small,\" \"Medium,\n",
        "         \" and \"Large,\" label encoding might assign 0 to \"Small,\" 1 to \"Medium,\" and 2 to \"Large.\"\n",
        "       - Can be used when there's an inherent order or ranking among\n",
        "         the categories (ordinal data).\n",
        "       - Be cautious when using label encoding with algorithms that\n",
        "         might   misinterpret the numerical relationships between categories.\n",
        "\n",
        "   3. Target Encoding:\n",
        "    - Replace each category with the average value of the target\n",
        "      variable for that category.\n",
        "    - Example: If you're predicting customer churn, you could replace\n",
        "      each country with the average churn rate for customers from that\n",
        "      country.\n",
        "    - Can be useful for variables with a large number of categories,\n",
        "      especially when there's a strong relationship between the category and the target variable.\n",
        "    - Risk of overfitting if the training data is small or if there's\n",
        "      too much variation within categories.\n",
        "\n",
        "   4. Binary Encoding:\n",
        "    - Convert the category labels into binary code and then create\n",
        "      separate features for each digit in the binary code.\n",
        "    - Example: If there are 4 categories, they can be encoded as\n",
        "      00, 01, 10, and 11. Then two features are created, one for the\n",
        "      first digit and another for the second digit.\n",
        "    - It can reduce the dimensionality compared to one-hot encoding.\n",
        "\n",
        "   5. Hashing Trick:\n",
        "    - A hash function is used to map categorical values to a fixed\n",
        "      number of features.\n",
        "    - It's more efficient in terms of memory and computation than\n",
        "     one-hot encoding for variables with a large number of categories.\n",
        "    - Can lead to collisions (different categories mapping to the same\n",
        "      feature), which can reduce the model's accuracy."
      ],
      "metadata": {
        "id": "hc3XFamRGovS"
      }
    },
    {
      "cell_type": "markdown",
      "source": [
        "Q8.What do you mean by training and testing a dataset?\n",
        "\n",
        "ANS:-In machine learning, we typically split our dataset into two parts:\n",
        "     1. Training Dataset: This is the larger portion of the dataset\n",
        "                          used to train our model. The model learns patterns and relationships from this data.\n",
        "     2. Testing Dataset: This is a smaller, independent part of the\n",
        "                         dataset used to evaluate the performance of our trained model on unseen data.\n",
        "\n",
        "\n",
        "      The process of training and testing a dataset can be summarized as follows:\n",
        "\n",
        "     1. Data Preparation: We gather and preprocess our data, including\n",
        "                          cleaning, transforming, and feature engineering.\n",
        "     2. Dataset Splitting: We divide the dataset into a training set\n",
        "                          and a testing set. The common split is 70-80% for training and 20-30% for testing.\n",
        "    3. Model Training: We use the training dataset to train our machine learning model. The model learns the underlying patterns and relationships in the training data.\n",
        "    4. Model Evaluation: We use the testing dataset to evaluate how\n",
        "                         well our trained model generalizes to unseen data. We feed the test data to the model and compare its predictions with the actual values.\n",
        "    5. Performance Measurement: We use metrics such as accuracy,\n",
        "                                precision, recall, F1-score, or AUC to measure the model's performance on the test dataset.\n",
        "    6. Model Tuning: Based on the performance evaluation, we may adjust\n",
        "                     the model's parameters or hyperparameters to improve its performance.\n",
        "    7. Deployment: Once we are satisfied with the model's performance,\n",
        "                   we deploy it to make predictions on new, real-world data.\n",
        "                   \n"
      ],
      "metadata": {
        "id": "dmeEYEeIH4Cr"
      }
    },
    {
      "cell_type": "markdown",
      "source": [
        "Q9.What is sklearn.preprocessing?\n",
        "\n",
        "ANS:- sklearn.preprocessing is a module within the scikit-learn library\n",
        "      that provides tools for transforming and scaling your data before you use it to train a machine learning model. It's important because many machine  learning algorithms perform better when the input data is in a specific  format or range."
      ],
      "metadata": {
        "id": "MDUY50BGI8oc"
      }
    },
    {
      "cell_type": "markdown",
      "source": [
        "Q10.What is a Test set?\n",
        "\n",
        "ANS:-In machine learning, a test set is a separate portion of your\n",
        "     dataset that is **not used during the training process**. It's specifically reserved for evaluating the performance of your trained model on unseen data."
      ],
      "metadata": {
        "id": "xGWr3jSYJMO4"
      }
    },
    {
      "cell_type": "markdown",
      "source": [
        "Q11.How do we split data for model fitting (training and testing) in Python?\n",
        "\n",
        "ANS:-The train-test split is used to estimate the performance of\n",
        "     machine learning algorithms that are applicable for prediction-based Algorithms/Applications. This method is a fast and easy procedure to perform such that we can compare our own machine learning model results to machine results. By default, the Test set is split into 30 % of actual data and the training set is split into 70% of the actual data.\n",
        "     We need to split a dataset into train and test sets to evaluate how well our machine learning model performs. The train set is used to fit the model, and the statistics of the train set are known. The second set is called the test data set, this set is solely used for predictions.\n",
        "     cikit-learn alias sklearn is the most useful and robust library for machine learning in Python. The scikit-learn library provides us with the model_selection module in which we have the splitter function train_test_split().\n",
        "\n"
      ],
      "metadata": {
        "id": "upmNRVREJebU"
      }
    },
    {
      "cell_type": "markdown",
      "source": [
        "Q12.How do you approach a Machine Learning problem?\n",
        "\n",
        "ANS:- 1. Define the Problem and Business Goal:\n",
        "         - What are you trying to predict or achieve? (e.g., customer\n",
        "           churn, price prediction, image classification)\n",
        "         - What is the desired outcome or impact?\n",
        "         - This step is crucial for framing the problem correctly    \n",
        "           and choosing appropriate ML techniques.\n",
        "\n",
        "      2. Data Collection and Preparation:\n",
        "         - Gather relevant data from various sources.\n",
        "         - Clean the data: Handle missing values, outliers, and\n",
        "           inconsistencies.\n",
        "         - Explore and understand the data: Perform exploratory data\n",
        "           analysis (EDA).\n",
        "         - Visualize distributions, correlations, and relationships\n",
        "           between features.\n",
        "         - Identify potential biases or issues in the data.\n",
        "         - Feature Engineering: Create new features or transform\n",
        "           existing ones that might improve model performance.\n",
        "         - Handle categorical variables: Use techniques like one-hot\n",
        "           encoding, label encoding, or target encoding.\n",
        "\n",
        "     3. Feature Selection:\n",
        "        - Select the most relevant features that contribute to the\n",
        "          prediction task.\n",
        "        - Eliminate irrelevant or redundant features that may\n",
        "          negatively impact the model.\n",
        "        - Techniques: Correlation analysis, feature importance from\n",
        "          tree-based models, etc.\n",
        "\n",
        "     4. Model Selection:\n",
        "        - Choose an appropriate machine learning model based on the\n",
        "          problem type and data characteristics.\n",
        "        - Consider factors like:\n",
        "        - Whether you're dealing with regression, classification, or\n",
        "          clustering.\n",
        "        - The size and complexity of your dataset.\n",
        "        - The desired level of interpretability.\n",
        "        - Possible Models: Linear Regression, Logistic Regression,      Decision Trees, Random Forests, Support Vector Machines (SVM), Neural Networks, etc.\n",
        "\n",
        "\n",
        "     5. Train and Evaluate the Model:\n",
        "       - Split the data into training and testing sets.\n",
        "       - Train the model using the training data.\n",
        "       - Evaluate the model's performance on the test data using\n",
        "         appropriate metrics (e.g., accuracy, precision, recall, F1-score, RMSE).\n",
        "       - Address issues like overfitting or underfitting.\n",
        "\n",
        "     6. Model Tuning and Optimization:\n",
        "        - Fine-tune the model's hyperparameters to improve its\n",
        "          performance.\n",
        "        - Use techniques like cross-validation or grid search.\n",
        "        - Consider ensemble methods to combine multiple models for\n",
        "          better results.\n",
        "\n",
        "      7. Deployment and Monitoring:\n",
        "         - Deploy the trained model to make predictions on new data.\n",
        "         - Continuously monitor the model's performance and retrain it\n",
        "           as needed.\n",
        "        - Track metrics like accuracy and identify any drift in the\n",
        "          data distribution.\n",
        "\n"
      ],
      "metadata": {
        "id": "eo21Z-oMJ5kZ"
      }
    },
    {
      "cell_type": "markdown",
      "source": [
        "Q13.Why do we have to perform EDA before fitting a model to the data?\n",
        "\n",
        "ANS:- We perform EDA (Exploratory Data Analysis) before fitting a model\n",
        "      to the data for several crucial reasons:\n",
        "\n",
        "     1. Understanding the Data: EDA helps us gain a comprehensive\n",
        "        understanding of our dataset's characteristics, including:\n",
        "       - Data types (numerical, categorical, etc.)\n",
        "       - Distribution of features (e.g., are they normally distributed,\n",
        "         skewed)\n",
        "       - Presence of missing values or outliers\n",
        "       - Relationships between variables (e.g., correlations)\n",
        "       - Potential patterns or trends in the data\n",
        "         This knowledge is essential for making informed decisions about feature engineering, data cleaning, and model selection.\n",
        "\n",
        "     2. Data Cleaning and Preprocessing: EDA can reveal issues that\n",
        "        need to be addressed before model training, such as:\n",
        "       - Missing values: We can identify and handle them (e.g.,\n",
        "         imputation, removal).\n",
        "       - Outliers: We can determine whether they are errors or valid\n",
        "         data points and decide how to handle them (e.g., removal, transformation).\n",
        "       - Inconsistent data: We can identify and correct errors in data\n",
        "         entry or formatting.\n",
        "         By cleaning the data, we ensure that the model receives accurate and reliable input, which leads to more robust and accurate predictions.\n",
        "\n",
        "     3. Feature Engineering: EDA helps us identify features that might   be relevant or useful for the prediction task.\n",
        "      - We can create new features by combining existing ones or\n",
        "        transforming them (e.g., creating interaction terms).\n",
        "      - We can also identify features that might be redundant or\n",
        "        irrelevant and exclude them from the model.\n",
        "        Feature engineering can significantly improve the performance of a machine learning model.\n",
        "\n",
        "      4. Model Selection: EDA helps us choose an appropriate model for\n",
        "         our data.\n",
        "        - For example, if we have a dataset with a strong linear\n",
        "          relationship between variables, a linear regression model might be suitable.\n",
        "        - If the data is complex and non-linear, a more advanced model\n",
        "          like a neural network might be necessary.\n",
        "         By understanding the data, we can make an informed decision about which model has the highest probability of success.\n",
        "\n",
        "       5. Identifying Potential Issues: EDA can reveal potential\n",
        "          problems that might impact the model's performance.\n",
        "         - For example, class imbalance in a classification task or\n",
        "           high correlation between features.\n",
        "         - We can then address these issues with appropriate\n",
        "           techniques, such as resampling, feature selection, or regularization.\n",
        "\n",
        "      6. Gaining Insights: EDA provides insights into the data that can\n",
        "         be valuable for understanding the underlying processes or relationships.\n",
        "        - This can lead to a deeper understanding of the problem and    potentially even new research questions."
      ],
      "metadata": {
        "id": "4i12x6lW9_gL"
      }
    },
    {
      "cell_type": "markdown",
      "source": [
        "Q14.What is correlation?\n",
        "\n",
        "ANS:- A parameter is a special kind of variable that is used in a\n",
        "      function definition.It is a placeholder that represents a value that will be passed to the function when it is called.In other words, parameters are the input to the functions."
      ],
      "metadata": {
        "id": "LwhdklNI_kTv"
      }
    },
    {
      "cell_type": "markdown",
      "source": [
        "Q15.What does negative correlation mean?\n",
        "\n",
        "ANS:-Negative correlation means that two variables have an inverse\n",
        "     relationship. When one variable increases, the other variable decreases, and vice versa. For example, there might be a negative correlation between the number of hours spent studying and the number of mistakes made on a test. If you study more, you might  make fewer mistakes, and if you study less, you might make more mistakes."
      ],
      "metadata": {
        "id": "AXASaoeH_4p6"
      }
    },
    {
      "cell_type": "markdown",
      "source": [
        "Q16.How can you find correlation between variables in Python?\n",
        "\n",
        "ANS:-Correlation is a statistical term to measure the relationship\n",
        "     between two variables. If the relationship is string, means the change in one variable reflects a change in another variable in a predictable pattern then we say that the variables are correlated. Further the variation in first variable may cause a positive or negative variation in the second variable. Accordingly, they are said to be positively or negatively correlated. Ideally the value of the correlation coefficient varies between -1 to +1.\n",
        "\n",
        "     If the value is +1 or close to it then we say the variables are positively correlated. And they vary in the same direction simultaneously.\n",
        "     If the value is -1 or close to it then we say the variables are negatively correlated. And they vary in the opposite direction simultaneously.\n",
        "     If the value is 0 or close to it then we say the variables are not correlated.\n",
        "\n"
      ],
      "metadata": {
        "id": "nQV-JHJLAKfY"
      }
    },
    {
      "cell_type": "markdown",
      "source": [
        "Q17.What is causation? Explain difference between correlation and causation with an example?\n",
        "\n",
        "ANS:-ausation refers to a cause-and-effect relationship between two\n",
        "     variables. It means that a change in one variable directly leads to a change in another variable.\n",
        "     Correlation, on the other hand, only indicates that two variables are related or tend to change together. It doesn't necessarily imply that one variable causes the other.\n",
        "\n",
        "     Correlation: You might find that ice cream sales and drowning\n",
        "                  incidents both increase during the summer months. This suggests a positive correlation between these two variables.\n",
        "\n",
        "     Causation: However, this correlation doesn't mean that buying ice\n",
        "                cream causes people to drown. The underlying reason for both is the hot weather and increased outdoor activities during the summer, which leads to both increased ice cream consumption and more people swimming.\n",
        "\n",
        "     In this example, there is a correlation between ice cream sales and drownings, but not a causal relationship. The hot weather is the actual cause of both events."
      ],
      "metadata": {
        "id": "-3tMBX8MBMfh"
      }
    },
    {
      "cell_type": "markdown",
      "source": [
        "Q18.What is an Optimizer? What are different types of optimizers? Explain each with an example.\n",
        "\n",
        "ANS:- In machine learning, an optimizer is an algorithm or method used\n",
        "      to adjust the parameters (weights and biases) of a model during the training process. Its primary goal is to minimize the loss function, which essentially measures how well the model is performing. Optimizers achieve this by iteratively updating the model's parameters based on the gradients of the loss function with respect to those parameters.\n",
        "\n",
        "      Different Types of Optimizers:\n",
        "\n",
        "     1. Gradient Descent:\n",
        "       - Concept: It's the most basic optimizer, which calculates the\n",
        "         gradient of the loss function and updates the parameters in the opposite direction of the gradient. This process continues iteratively until a minimum loss is reached.\n",
        "\n",
        "      - Example: Imagine a ball rolling down a hill (representing the   loss function). The ball follows the steepest descent path, guided by the slope (gradient) of the hill. Gradient descent updates model parameters similarly, aiming to reach the bottom of the \"valley\" where the loss is minimized.\n",
        "\n",
        "      2. Stochastic Gradient Descent (SGD):#    - Concept: Instead of\n",
        "         using the entire dataset to calculate the gradient, SGD uses only a small random subset (a mini-batch) of the data. This makes it computationally more efficient, especially for large datasets.\n",
        "       - Example: Instead of considering all students' test scores to\n",
        "         adjust teaching methods, a teacher randomly selects a group of students and updates their teaching approach based on their performance. SGD does something similar; it uses a subset of data to calculate the gradient and update the model's parameters more frequently.\n",
        "\n",
        "      3. Momentum:\n",
        "        - Concept: Momentum helps accelerate SGD in the relevant\n",
        "          direction and dampens oscillations. It adds a fraction of the previous update to the current update.\n",
        "        - Example: Imagine pushing a heavy box down a hill. Momentum\n",
        "          helps the box gain speed and overcome obstacles more effectively. The momentum term in the optimizer adds a push in the direction of the previous update, making the optimization process smoother and potentially faster.\n",
        "\n",
        "     4. Adagrad:\n",
        "       - Concept: Adapts the learning rate for each parameter\n",
        "         individually. Parameters that receive frequent updates have their learning rate reduced, while parameters that receive infrequent updates have their learning rate increased.\n",
        "       - Example: Think of a student who excels in some subjects\n",
        "         (frequent updates) and struggles in others (infrequent updates). Adagrad would adjust the learning rate for each subject accordingly, allowing for faster progress in areas where the student is struggling while slowing down the learning rate in areas where they are already doing well.\n",
        "\n",
        "     5. RMSprop:\n",
        "       - Concept: Similar to Adagrad but with a decaying average of\n",
        "         past squared gradients, preventing the learning rate from becoming too small too quickly.\n",
        "       - Example: Imagine a runner training on a track. RMSprop adapts\n",
        "         the speed of the runner based on the terrain, allowing for quick acceleration on relatively flat sections and gradual adjustments on challenging sections. It prevents the runner from stopping abruptly due to sudden changes in the track's difficulty.\n",
        "\n",
        "     6. Adam:\n",
        "        - Concept: Combines the advantages of Momentum and RMSprop. It\n",
        "          adapts the learning rate for each parameter individually and also incorporates momentum to accelerate convergence.\n",
        "        - Example: Adam is like a combination of a strong runner with\n",
        "          experience (momentum) and a personal trainer who tailors their training plan based on the runner's strengths and weaknesses (RMSprop). This optimized approach usually leads to faster and more stable convergence in a wide range of situations."
      ],
      "metadata": {
        "id": "DZCOgNSOB-w9"
      }
    },
    {
      "cell_type": "markdown",
      "source": [
        "Q19.What is sklearn.linear_model ?\n",
        "\n",
        "ANS:- sklearn.linear_model is a module within the scikit-learn library\n",
        "      that provides various linear model algorithms for regression and classification tasks."
      ],
      "metadata": {
        "id": "-vmzP6ziC6lQ"
      }
    },
    {
      "cell_type": "markdown",
      "source": [
        "Q20.What does model.fit() do? What arguments must be given?\n",
        "\n",
        "ANS:-In the context of scikit-learn (sklearn), model.fit() is a method\n",
        "     that trains a machine learning model using your training data.\n",
        "\n",
        "      Arguments:\n",
        "      1. X: This is your feature data (the input variables used to make\n",
        "            predictions). It's typically a NumPy array or pandas DataFrame.\n",
        "      2. y: This is your target variable (the output or label you want  the model to predict). It's also usually a NumPy array or pandas Series.\n",
        "\n",
        "     Example:Let's assume you have a linear regression model called\n",
        "            'model' and you've prepared your training data as X_train and y_train:"
      ],
      "metadata": {
        "id": "yMee5bDXDWjt"
      }
    },
    {
      "cell_type": "markdown",
      "source": [
        "Q21.What does model.predict() do? What arguments must be given?\n",
        "\n",
        "ANS:-In the context of scikit-learn (sklearn), model.predict() is a\n",
        "     method that uses a trained machine learning model to make predictions on new, unseen data.\n",
        "     What it does:\n",
        "    - It takes input data (features) and applies the learned patterns\n",
        "      from the training phase to generate predictions for the target variable.\n",
        "\n",
        "     Arguments:\n",
        "     - X: This is the input data (features) you want the model to make  \n",
        "         predictions on. It should have the same format (e.g., NumPy array, pandas DataFrame) and number of columns as the data used to train the model (X_train).\n",
        "\n"
      ],
      "metadata": {
        "id": "tTKtjCpUEa3C"
      }
    },
    {
      "cell_type": "markdown",
      "source": [
        "Q22.What are continuous and categorical variables?\n",
        "\n",
        "ANS:- Continuous Variables:\n",
        "    - Represent measurable quantities that can take on any value within\n",
        "      a range.\n",
        "    - Examples: Height, weight, temperature, income, age.\n",
        "    - Can be further subdivided into interval and ratio variables\n",
        "      (based on whether there's a true zero point).\n",
        "\n",
        "     Categorical Variables:\n",
        "     - Represent characteristics or qualities that can be divided into\n",
        "       distinct groups or categories.\n",
        "     - Examples: Gender, color, country, education level, marital\n",
        "       status.\n",
        "     - Can be further subdivided into nominal and ordinal variables\n",
        "       (based on whether there's an inherent order or ranking).\n"
      ],
      "metadata": {
        "id": "ellowKc8D2Yq"
      }
    },
    {
      "cell_type": "markdown",
      "source": [
        "Q23.What is feature scaling? How does it help in Machine Learning?\n",
        "\n",
        "ANS:-Feature scaling is a data preprocessing technique used to\n",
        "     standardize or normalize the range of independent variables or features of data. It's a crucial step in many machine learning algorithms, especially those that are sensitive to the scale of the input features.\n",
        "\n",
        "     Why it helps:\n",
        "     1. Improved Model Performance: Many machine learning algorithms,   such as those based on gradient descent (like linear regression, logistic regression, and neural networks), perform better when features are on a similar scale. This is because it prevents features with larger values from dominating the learning process and potentially leading to slower convergence or biased results.\n",
        "      2. Faster Convergence: Feature scaling often leads to faster\n",
        "         convergence of gradient descent-based algorithms. When features are on a similar scale, the algorithm can find the optimal solution more quickly and efficiently.\n",
        "      3. Avoiding Bias: Algorithms that calculate distances or      similarities between data points (e.g., K-Nearest Neighbors) can be affected by features with different scales. Feature scaling can help avoid bias toward features with larger ranges.\n",
        "      4. Better Feature Engineering: It can improve the effectiveness\n",
        "         of feature engineering techniques that rely on the relative magnitudes of features."
      ],
      "metadata": {
        "id": "9Szh9Y4tFPER"
      }
    },
    {
      "cell_type": "markdown",
      "source": [
        "Q24.How do we perform scaling in Python?\n",
        "\n",
        "ANS:- It is performed during the data pre-processing to handle highly\n",
        "      varying values. If feature scaling is not done then machine learning algorithm tends to use greater values as higher and consider smaller values as lower regardless of the unit of the values. For example it will take 10 m and 10 cm both as same regardless of their unit. In this article we will learn about different techniques which are used to perform feature scaling.\n",
        "      1.Explain to the person what you are going to do.\n",
        "      2.Feel under the gum for rough spots (tartar).\n",
        "      3.Place the scaler under the tartar.\n",
        "      4.Pull the scaler against the side of the tooth.\n",
        "      5.Check to be sure the tooth is smooth.\n",
        "      6.Explain what you have done and what the person should now do."
      ],
      "metadata": {
        "id": "JGq_VOF1FvBk"
      }
    },
    {
      "cell_type": "markdown",
      "source": [
        "Q25.What is sklearn.preprocessing?\n",
        "\n",
        "ANS:- sklearn.preprocessing is a module within the scikit-learn library\n",
        "      that provides tools for transforming and scaling your data before you use it to train a machine learning model. It's important because many machine  learning algorithms perform better when the input data is in a specific  format or range."
      ],
      "metadata": {
        "id": "CeelRVVEL4nn"
      }
    },
    {
      "cell_type": "markdown",
      "source": [
        "Q26.How do we split data for model fitting (training and testing) in Python?\n",
        "\n",
        "ANS:-To split data for model fitting in Python, use train_test_split\n",
        "     from scikit-learn, which randomly divides your data into training and testing sets, ensuring unbiased model evaluation.\n",
        "     Explanation:\n",
        "     Training Set: Used to train your machine learning model.\n",
        "     Testing Set: Used to evaluate the performance of the trained model\n",
        "                  on unseen data, providing an unbiased estimate of its generalization ability.\n",
        "     Train_test_split: A convenient function from scikit-learn that\n",
        "                       handles the data splitting process, ensuring random allocation and preserving the original class distribution.\n",
        "     The train-test split is used to estimate the performance of machine learning algorithms that are applicable for prediction-based Algorithms/Applications. This method is a fast and easy procedure to perform such that we can compare our own machine learning model results to machine results. By default, the Test set is split into 30 % of actual data and the training set is split into 70% of the actual data.\n",
        "\n",
        "     We need to split a dataset into train and test sets to evaluate how well our machine learning model performs. The train set is used to fit the model, and the statistics of the train set are known. The second set is called the test data set, this set is solely used for predictions."
      ],
      "metadata": {
        "id": "F6gxCd-zMKGY"
      }
    },
    {
      "cell_type": "markdown",
      "source": [
        "Q27.Explain data encoding?\n",
        "\n",
        "ANS:- Data encoding is the process of converting categorical data\n",
        "      (textual or symbolic) into numerical data that machine learning algorithms can understand and process. This is essential because most machine learning models work with numerical data.\n",
        "\n",
        "    1. Label Encoding:\n",
        "    - Assigns a unique integer to each category in a categorical\n",
        "      feature.\n",
        "    - Suitable for ordinal variables where the categories have a\n",
        "      meaningful order.\n",
        "    - Example: Encoding \"low,\" \"medium,\" and \"high\" as 0, 1, and 2\n",
        "      respectively.\n",
        "\n",
        "    2. One-Hot Encoding:\n",
        "    - Creates new binary (0 or 1) columns for each unique category in a\n",
        "      feature.\n",
        "    - Suitable for nominal variables where the categories don't have a\n",
        "      natural order.\n",
        "    - Example: Encoding \"red,\" \"green,\" and \"blue\" as:\n",
        "       - red: [1, 0, 0]\n",
        "       - green: [0, 1, 0]\n",
        "       - blue: [0, 0, 1]\n",
        "\n",
        "    3. Ordinal Encoding:\n",
        "    - Similar to label encoding but assigns integers based on a\n",
        "      predefined order of categories.\n",
        "    - Suitable for ordinal variables where you want to capture the\n",
        "      ranking of categories.\n",
        "    - Example: Encoding \"poor,\" \"fair,\" \"good,\" and \"excellent\" as 0,\n",
        "      1, 2, and 3 respectively.\n",
        "\n",
        "    4. Binary Encoding:\n",
        "    - Converts each category into a binary code (e.g., 001, 010, 011,\n",
        "      100).\n",
        "    - Less computationally expensive than one-hot encoding for  high-cardinality features.\n",
        "\n",
        "    5. Target Encoding:\n",
        "     - Replaces each category with the mean of the target variable for\n",
        "       that category.\n",
        "      - Suitable for classification problems and can be useful for\n",
        "        capturing relationships between the categorical feature and the target."
      ],
      "metadata": {
        "id": "5KVDoFNLMYfd"
      }
    }
  ]
}